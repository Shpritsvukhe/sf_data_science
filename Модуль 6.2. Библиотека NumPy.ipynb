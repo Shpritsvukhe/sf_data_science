{
 "cells": [
  {
   "cell_type": "markdown",
   "metadata": {},
   "source": [
    "Counter"
   ]
  },
  {
   "cell_type": "code",
   "execution_count": 3,
   "metadata": {},
   "outputs": [
    {
     "name": "stdout",
     "output_type": "stream",
     "text": [
      "Counter({'red': 1})\n"
     ]
    }
   ],
   "source": [
    "from collections import Counter\n",
    "# Создаём пустой объект Counter\n",
    "c = Counter()\n",
    "c['red'] += 1\n",
    "print(c)"
   ]
  },
  {
   "cell_type": "markdown",
   "metadata": {},
   "source": [
    "Подсчет с помощью цикла"
   ]
  },
  {
   "cell_type": "code",
   "execution_count": 5,
   "metadata": {},
   "outputs": [
    {
     "name": "stdout",
     "output_type": "stream",
     "text": [
      "Counter({'red': 3, 'black': 3, 'blue': 2, 'white': 1})\n"
     ]
    }
   ],
   "source": [
    "cars = ['red', 'blue', 'black', 'black', 'black', 'red', 'blue', 'red', 'white']\n",
    "c = Counter()\n",
    "for car in cars:\n",
    "    c[car] += 1\n",
    "print(c)"
   ]
  },
  {
   "cell_type": "markdown",
   "metadata": {},
   "source": [
    "Подсчет с пмощью самого Counter. Сколько раз конкретный элемент встречается в списке и составлет словарь"
   ]
  },
  {
   "cell_type": "code",
   "execution_count": 6,
   "metadata": {},
   "outputs": [
    {
     "name": "stdout",
     "output_type": "stream",
     "text": [
      "Counter({'red': 3, 'black': 3, 'blue': 2, 'white': 1})\n"
     ]
    }
   ],
   "source": [
    "cars = ['red', 'blue', 'black', 'black', 'black', 'red', 'blue', 'red', 'white']\n",
    "с = Counter(cars)\n",
    "print(c)"
   ]
  },
  {
   "cell_type": "code",
   "execution_count": 15,
   "metadata": {},
   "outputs": [
    {
     "name": "stdout",
     "output_type": "stream",
     "text": [
      "3\n",
      "0\n"
     ]
    }
   ],
   "source": [
    "#Узнать, сколько раз встретился конкретный элемент, можно, обратившись к счётчику по ключу как к обычному словарю\n",
    "print(c['black'])\n",
    "#Если обратиться к счётчику по несуществующему ключу, то, в отличие от словаря, ошибка KeyError не возникнет:\n",
    "print(c['purple'])"
   ]
  },
  {
   "cell_type": "code",
   "execution_count": 17,
   "metadata": {},
   "outputs": [
    {
     "name": "stdout",
     "output_type": "stream",
     "text": [
      "9\n"
     ]
    }
   ],
   "source": [
    "#Сумма всех значений\n",
    "print(sum(c.values()))"
   ]
  },
  {
   "cell_type": "code",
   "execution_count": 42,
   "metadata": {},
   "outputs": [
    {
     "name": "stdout",
     "output_type": "stream",
     "text": [
      "Counter({'black': 4, 'yellow': 3, 'white': 2})\n",
      "Counter({'white': 3, 'red': 2, 'black': 2, 'yellow': 2})\n",
      "Сумма Counter({'black': 6, 'white': 5, 'yellow': 5, 'red': 2})\n"
     ]
    }
   ],
   "source": [
    "#Счетчики можно складывать\n",
    "cars_moscow = ['black', 'black', 'white', 'black', 'black', 'white', 'yellow', 'yellow', 'yellow']\n",
    "cars_spb = ['red', 'black', 'black', 'white', 'white', 'yellow', 'yellow', 'red', 'white']\n",
    "counter_moscow = Counter(cars_moscow)\n",
    "counter_spb = Counter(cars_spb)\n",
    "print(counter_moscow)\n",
    "print(counter_spb)\n",
    "print(f'Сумма {counter_moscow + counter_spb}')\n",
    "#Или узнать разницу между объектами. но меняет исходный объект, в этом минус\n",
    "#counter_moscow.subtract(counter_spb)\n",
    "#print(f'Разница {counter_moscow}')"
   ]
  },
  {
   "cell_type": "code",
   "execution_count": 43,
   "metadata": {},
   "outputs": [
    {
     "name": "stdout",
     "output_type": "stream",
     "text": [
      "black black black black white white yellow yellow yellow\n",
      "['black', 'white', 'yellow']\n",
      "[('black', 4), ('yellow', 3), ('white', 2)]\n",
      "[('black', 4), ('yellow', 3)]\n"
     ]
    }
   ],
   "source": [
    "#Получить список всех элементов в алфавитном порядке\n",
    "print(*counter_moscow.elements())\n",
    "#Список уникальныъ элементов в алфавитном порядке\n",
    "print(list(counter_moscow))\n",
    "#список из кортежей элементов в порядке убывания их встречаемости\n",
    "print(counter_moscow.most_common())\n",
    "print(counter_moscow.most_common(2)) #2 наиболее частых элемента\n",
    "#полностью обнулить счётчик:\n",
    "#counter_moscow.clear()\n",
    "#print(counter_moscow)"
   ]
  },
  {
   "cell_type": "markdown",
   "metadata": {},
   "source": [
    "DEFAULTDICT"
   ]
  },
  {
   "cell_type": "code",
   "execution_count": 46,
   "metadata": {},
   "outputs": [
    {
     "name": "stdout",
     "output_type": "stream",
     "text": [
      "{1: ['Ivanov', 'Kuznetsova'], 4: ['Smirnov'], 3: ['Petrov', 'Markov'], 2: ['Nikitina', 'Pavlov']}\n"
     ]
    }
   ],
   "source": [
    "students = [('Ivanov',1),('Smirnov',4),('Petrov',3),('Kuznetsova',1), ('Nikitina',2),('Markov',3),('Pavlov',2)]\n",
    "groups = dict()\n",
    "for student, group in students:\n",
    "    # Проверяем, есть ли уже эта группа в словаре\n",
    "    if group not in groups:\n",
    "        # Если группы ещё нет в словаре, создаём для неё пустой список\n",
    "        groups[group] = list()\n",
    "    groups[group].append(student)\n",
    "print(groups)"
   ]
  },
  {
   "cell_type": "code",
   "execution_count": 48,
   "metadata": {},
   "outputs": [
    {
     "name": "stdout",
     "output_type": "stream",
     "text": [
      "defaultdict(<class 'list'>, {1: ['Ivanov', 'Kuznetsova'], 4: ['Smirnov'], 3: ['Petrov', 'Markov'], 2: ['Nikitina', 'Pavlov']})\n"
     ]
    }
   ],
   "source": [
    "from collections import defaultdict\n",
    "#Он позволяет задавать тот тип данных, который хранится в словаре по \n",
    "# умолчанию (в нашем случае это должен быть список).\n",
    "#Создадим defaultdict, в котором при обращении по несуществующему ключу \n",
    "# будет автоматически создаваться новый список.\n",
    "groups = defaultdict(list)\n",
    "for student, group in students:\n",
    "    groups[group].append(student)\n",
    "print(groups)"
   ]
  },
  {
   "cell_type": "code",
   "execution_count": 52,
   "metadata": {},
   "outputs": [
    {
     "name": "stdout",
     "output_type": "stream",
     "text": [
      "['Petrov', 'Markov']\n",
      "[]\n",
      "defaultdict(<class 'list'>, {1: ['Ivanov', 'Kuznetsova'], 4: ['Smirnov'], 3: ['Petrov', 'Markov'], 2: ['Nikitina', 'Pavlov'], 2021: []})\n"
     ]
    }
   ],
   "source": [
    "#Получить элемент. Если запрашиваемого ключа нет в словаре, KeyError \n",
    "# не возникнет. Вместо этого будет напечатан пустой элемент, который \n",
    "# создаётся в словаре по умолчанию:\n",
    "print(groups[3])\n",
    "print(groups[2021])\n",
    "print(groups)"
   ]
  },
  {
   "cell_type": "markdown",
   "metadata": {},
   "source": [
    "ORDEREDDICT**"
   ]
  },
  {
   "cell_type": "code",
   "execution_count": 58,
   "metadata": {},
   "outputs": [
    {
     "name": "stdout",
     "output_type": "stream",
     "text": [
      "OrderedDict({'Ivan': 19, 'Mark': 25, 'Andrey': 23, 'Maria': 20})\n"
     ]
    }
   ],
   "source": [
    "#Словарь в котором сохраняется прядок ключей\n",
    "from collections import OrderedDict\n",
    "data = [('Ivan', 19),('Mark', 25),('Andrey', 23),('Maria', 20)]\n",
    "ordered_client_ages = OrderedDict(data)\n",
    "print(ordered_client_ages)\n"
   ]
  },
  {
   "cell_type": "code",
   "execution_count": 59,
   "metadata": {},
   "outputs": [
    {
     "name": "stdout",
     "output_type": "stream",
     "text": [
      "OrderedDict({'Ivan': 19, 'Maria': 20, 'Andrey': 23, 'Mark': 25})\n",
      "OrderedDict({'Ivan': 19, 'Maria': 20, 'Andrey': 23, 'Mark': 25, 'Nikita': 18})\n"
     ]
    }
   ],
   "source": [
    "# Мжно сортировать\n",
    "data = [('Ivan', 19),('Mark', 25),('Andrey', 23),('Maria', 20)]\n",
    "# Сортируем по второму значению из кортежа, то есть по возрасту\n",
    "ordered_client_ages = OrderedDict(sorted(data, key=lambda x: x[1]))\n",
    "print(ordered_client_ages)\n",
    "#Если теперь добавить нового человека в словарь, новая запись окажется в конце\n",
    "ordered_client_ages['Nikita'] = 18\n",
    "print(ordered_client_ages)"
   ]
  },
  {
   "cell_type": "code",
   "execution_count": 60,
   "metadata": {},
   "outputs": [],
   "source": [
    "#Актуально только для пайтона меньше 3.7"
   ]
  },
  {
   "cell_type": "markdown",
   "metadata": {},
   "source": [
    "DEQUE"
   ]
  },
  {
   "cell_type": "code",
   "execution_count": 61,
   "metadata": {},
   "outputs": [
    {
     "name": "stdout",
     "output_type": "stream",
     "text": [
      "deque([])\n"
     ]
    }
   ],
   "source": [
    "from collections import deque\n",
    "dq = deque()\n",
    "print(dq)"
   ]
  },
  {
   "cell_type": "code",
   "execution_count": null,
   "metadata": {},
   "outputs": [],
   "source": [
    "#4 ключевые функции\n",
    "#append (добавить элемент в конец дека);\n",
    "#appendleft (добавить элемент в начало дека);\n",
    "#pop (удалить и вернуть элемент из конца дека);\n",
    "#popleft (удалить и вернуть элемент из начала дека)."
   ]
  },
  {
   "cell_type": "code",
   "execution_count": 68,
   "metadata": {},
   "outputs": [
    {
     "name": "stdout",
     "output_type": "stream",
     "text": [
      "deque(['Ivanov', 'Petrov', 'Smirnov', 'Tikhonova'])\n",
      "Третий клиент Smirnov\n",
      "First client: Ivanov\n",
      "Second client: Petrov\n",
      "deque(['Smirnov', 'Tikhonova'])\n",
      "deque(['Vip-client', 'Smirnov', 'Tikhonova'])\n",
      "deque(['Vip-client', 'Smirnov'])\n"
     ]
    }
   ],
   "source": [
    "clients = deque()\n",
    "clients.append('Ivanov')\n",
    "clients.append('Petrov')\n",
    "clients.append('Smirnov')\n",
    "clients.append('Tikhonova')\n",
    "print(clients)\n",
    "print(\"Третий клиент\", clients[2])\n",
    "#Заберем двоих сначала. функция pop возвращает тот элемент, который удалила \n",
    "first_client = clients.popleft()\n",
    "second_client = clients.popleft()\n",
    "print(\"First client:\", first_client)\n",
    "print(\"Second client:\", second_client)\n",
    "print(clients)\n",
    "# Добавляем випа\n",
    "clients.appendleft('Vip-client')\n",
    "print(clients)\n",
    "#Удалить конкретный элемент из списка!!!\n",
    "del clients[2]\n",
    "print(clients)"
   ]
  },
  {
   "cell_type": "code",
   "execution_count": 70,
   "metadata": {},
   "outputs": [
    {
     "name": "stdout",
     "output_type": "stream",
     "text": [
      "deque([1, 2, 3, 4, 5])\n",
      "deque([1, 2, 3, 4, 5, 11, 12, 13, 14, 15, 16, 17])\n",
      "deque([17, 16, 15, 14, 13, 12, 11, 1, 2, 3, 4, 5, 11, 12, 13, 14, 15, 16, 17])\n"
     ]
    }
   ],
   "source": [
    "#Добавить несколько элементов:  \n",
    "# extend (добавить в конец дека) \n",
    "# и extendleft (добавить в начало дека)\n",
    "# В скобках передаём список при создании deque,\n",
    "# чтобы сразу добавить все его элементы в очередь\n",
    "shop = deque([1, 2, 3, 4, 5])\n",
    "print(shop)\n",
    "shop.extend([11, 12, 13, 14, 15, 16, 17])\n",
    "print(shop)\n",
    "shop.extendleft([11, 12, 13, 14, 15, 16, 17])\n",
    "print(shop)\n",
    "# При добавлении в начало происходит разворот"
   ]
  },
  {
   "cell_type": "code",
   "execution_count": 71,
   "metadata": {},
   "outputs": [
    {
     "name": "stdout",
     "output_type": "stream",
     "text": [
      "deque([], maxlen=3)\n",
      "deque([5, 6, 7], maxlen=3)\n"
     ]
    }
   ],
   "source": [
    "#Можно задать максимальную длину\n",
    "limited = deque(maxlen=3)\n",
    "print(limited)\n",
    "# Можно и до, и после. Сохраняются только последние элементы\n",
    "limited_from_list = deque([1,3,4,5,6,7], maxlen=3)\n",
    "print(limited_from_list)"
   ]
  },
  {
   "cell_type": "code",
   "execution_count": 73,
   "metadata": {},
   "outputs": [
    {
     "name": "stdout",
     "output_type": "stream",
     "text": [
      "20.77; 21.27; 22.16; 23.3; 24.44; 24.94; 25.56; 26.2; 25.97; 25.94; 25.57; 25.1; 24.81; 24.21; 23.23; 22.57; 21.41; 20.4; 19.6; 19.1; 19.04; 18.96; 19.44; 20.01; 20.67; \n"
     ]
    }
   ],
   "source": [
    "temps = [20.6, 19.4, 19.0, 19.0, 22.1,\n",
    "        22.5, 22.8, 24.1, 25.6, 27.0,\n",
    "        27.0, 25.6, 26.8, 27.3, 22.5,\n",
    "        25.4, 24.4, 23.7, 23.6, 22.6,\n",
    "        20.4, 17.9, 17.3, 17.3, 18.1,\n",
    "        20.1, 22.2, 19.8, 21.3, 21.3,\n",
    "        21.9]\n",
    "#динамику средней температуры с усреднением за 7 дней\n",
    "days = deque(maxlen=7)\n",
    "for temp in temps:\n",
    "    # Добавляем температуру в очередь\n",
    "    days.append(temp)\n",
    "    # Если длина очереди оказалась равной максимальной длине очереди (7),\n",
    "    # печатаем среднюю температуру за последние 7 дней\n",
    "    if len(days) == days.maxlen:\n",
    "        print(round(sum(days) / len(days), 2), end='; ')\n",
    "# Напечатаем пустую строку, чтобы завершить действие параметра\n",
    "# end. Иначе следующая строка окажется напечатанной на предыдущей\n",
    "print(\"\")"
   ]
  },
  {
   "cell_type": "code",
   "execution_count": 84,
   "metadata": {},
   "outputs": [
    {
     "name": "stdout",
     "output_type": "stream",
     "text": [
      "deque([5, 4, 3, 2, 1])\n",
      "deque([2, 1, 5, 4, 3])\n",
      "deque([5, 4, 3, 2, 1])\n",
      "2\n",
      "6\n",
      "[]\n"
     ]
    }
   ],
   "source": [
    "#reverse позволяет поменять порядок элементов в очереди на обратный:\n",
    "dq = deque([1,2,3,4,5])\n",
    "dq.reverse()\n",
    "print(dq)\n",
    "# rotate переносит  заданных элементов из конца очереди в начало, если знак -\n",
    "# можно и из начала в конец\n",
    "dq.rotate(2)\n",
    "print(dq)\n",
    "dq.rotate(-2)\n",
    "print(dq)\n",
    "#index позволяет найти первый индекс искомого элемента\n",
    "dq = [1,2,4,2,3,1,5,4,4,4,4,4,3]\n",
    "print(dq.index(4))\n",
    "#count позволяет подсчитать, сколько раз элемент встретился в очереди\n",
    "print(dq.count(4))\n",
    "#print(dq.index(25)) ValueError\n",
    "#clear позволяет очистить очередь:\n",
    "dq.clear()\n",
    "print(dq)"
   ]
  },
  {
   "cell_type": "code",
   "execution_count": 102,
   "metadata": {},
   "outputs": [],
   "source": [
    "temps = [('2000', -4.4), ('2001', -2.5), ('2002', -4.4), ('2003', -9.5)]\n",
    "from collections import OrderedDict\n",
    "def check(temps):\n",
    "    temps.sort(key=lambda x: x[1], reverse=True)\n",
    "    od = OrderedDict(temps)\n",
    "    od = str(od)\n",
    "    print(od)"
   ]
  },
  {
   "cell_type": "code",
   "execution_count": 121,
   "metadata": {},
   "outputs": [
    {
     "name": "stdout",
     "output_type": "stream",
     "text": [
      "False\n"
     ]
    }
   ],
   "source": [
    "from collections import deque\n",
    "def brackets(line):\n",
    "    dq = deque()\n",
    "    for x in line:\n",
    "        if x == '(':\n",
    "            dq.append(x)\n",
    "        elif x == ')':\n",
    "            if len(dq) == 0:\n",
    "                return False\n",
    "            dq.pop()\n",
    "    if len(dq) == 0:\n",
    "        return True\n",
    "    return False\n",
    "print(brackets(\"(()()))\"))"
   ]
  },
  {
   "cell_type": "code",
   "execution_count": 131,
   "metadata": {},
   "outputs": [
    {
     "name": "stdout",
     "output_type": "stream",
     "text": [
      "[['Milk', 'Bread'], ['Meat']]\n"
     ]
    }
   ],
   "source": [
    "center = [['Milk', 'Bread'], ['Meat']]\n",
    "result = []\n",
    "for x in center:\n",
    "    result.append(x)\n",
    "print(result)   "
   ]
  },
  {
   "cell_type": "code",
   "execution_count": 122,
   "metadata": {},
   "outputs": [
    {
     "ename": "NameError",
     "evalue": "name 'n' is not defined",
     "output_type": "error",
     "traceback": [
      "\u001b[1;31m---------------------------------------------------------------------------\u001b[0m",
      "\u001b[1;31mNameError\u001b[0m                                 Traceback (most recent call last)",
      "Cell \u001b[1;32mIn[122], line 1\u001b[0m\n\u001b[1;32m----> 1\u001b[0m \u001b[38;5;28;01mfor\u001b[39;00m _ \u001b[38;5;129;01min\u001b[39;00m \u001b[38;5;28mrange\u001b[39m(\u001b[43mn\u001b[49m):\n\u001b[0;32m      2\u001b[0m     elem \u001b[38;5;241m=\u001b[39m [\u001b[38;5;28mint\u001b[39m(i) \u001b[38;5;28;01mfor\u001b[39;00m i \u001b[38;5;129;01min\u001b[39;00m \u001b[38;5;28minput\u001b[39m()\u001b[38;5;241m.\u001b[39msplit()]\n\u001b[0;32m      3\u001b[0m     my_list\u001b[38;5;241m.\u001b[39mextend(elem)\n",
      "\u001b[1;31mNameError\u001b[0m: name 'n' is not defined"
     ]
    }
   ],
   "source": []
  },
  {
   "cell_type": "markdown",
   "metadata": {},
   "source": [
    "Я так и не поняла как это решить"
   ]
  },
  {
   "cell_type": "markdown",
   "metadata": {},
   "source": [
    "Проблема в том, что я не могу вспомнить как из списка в списке сделать просто список\n"
   ]
  },
  {
   "cell_type": "code",
   "execution_count": 138,
   "metadata": {},
   "outputs": [],
   "source": [
    "\n",
    "ratings = [('Old York', 3.3), ('New Age', 4.6), ('Old Gold', 3.3), ('General Foods', 4.8),\n",
    "           ('Belissimo', 4.5), ('CakeAndCoffee', 4.2), ('CakeOClock', 4.2), ('CakeTime', 4.1),\n",
    "           ('WokToWork', 4.9), ('WokAndRice', 4.9), ('Old Wine Cellar', 3.3), ('Nice Cakes', 3.9)]\n",
    "\n",
    "\n",
    "# Отсортируйте список ratings по убыванию рейтинга. Для кафе с одинаковым рейтингом отсортируйте \n",
    "\n",
    "ratings.sort(key=lambda x: (-x[1], x[0]))\n",
    "\n",
    "# Сохраните данные с рейтингом в словарь cafes, где ключами являются\n",
    "# названия кафе, а значениями - их рейтинг.\n",
    "from collections import OrderedDict\n",
    "cafes = OrderedDict(ratings)"
   ]
  },
  {
   "cell_type": "code",
   "execution_count": 156,
   "metadata": {},
   "outputs": [
    {
     "name": "stdout",
     "output_type": "stream",
     "text": [
      "deque([(36871, 'office')])\n",
      "deque([(36871, 'office'), (40690, 'office')])\n",
      "deque([(36871, 'office'), (40690, 'office'), (35364, 'voltage')])\n",
      "deque([(41667, 'voltage'), (36871, 'office'), (40690, 'office'), (35364, 'voltage')])\n",
      "deque([(41667, 'voltage'), (36871, 'office'), (40690, 'office'), (35364, 'voltage'), (33850, 'office')])\n"
     ]
    },
    {
     "ename": "TypeError",
     "evalue": "first argument must be callable or None",
     "output_type": "error",
     "traceback": [
      "\u001b[1;31m---------------------------------------------------------------------------\u001b[0m",
      "\u001b[1;31mTypeError\u001b[0m                                 Traceback (most recent call last)",
      "Cell \u001b[1;32mIn[156], line 20\u001b[0m\n\u001b[0;32m     18\u001b[0m     slovar\u001b[38;5;241m=\u001b[39mdefaultdict(slovar)\n\u001b[0;32m     19\u001b[0m     \u001b[38;5;28;01mreturn\u001b[39;00m slovar\n\u001b[1;32m---> 20\u001b[0m \u001b[43mtask_manager\u001b[49m\u001b[43m(\u001b[49m\u001b[43mtasks\u001b[49m\u001b[43m)\u001b[49m\n\u001b[0;32m     21\u001b[0m \u001b[38;5;28mprint\u001b[39m(task_manager(tasks))\n",
      "Cell \u001b[1;32mIn[156], line 18\u001b[0m, in \u001b[0;36mtask_manager\u001b[1;34m(tasks)\u001b[0m\n\u001b[0;32m     16\u001b[0m a \u001b[38;5;241m=\u001b[39m \u001b[38;5;28mtuple\u001b[39m(dq)\n\u001b[0;32m     17\u001b[0m slovar \u001b[38;5;241m=\u001b[39m \u001b[38;5;28mdict\u001b[39m(a)\n\u001b[1;32m---> 18\u001b[0m slovar\u001b[38;5;241m=\u001b[39m\u001b[43mdefaultdict\u001b[49m\u001b[43m(\u001b[49m\u001b[43mslovar\u001b[49m\u001b[43m)\u001b[49m\n\u001b[0;32m     19\u001b[0m \u001b[38;5;28;01mreturn\u001b[39;00m slovar\n",
      "\u001b[1;31mTypeError\u001b[0m: first argument must be callable or None"
     ]
    }
   ],
   "source": [
    "tasks = [(36871, 'office', False),\n",
    "(40690, 'office', False),\n",
    "(35364, 'voltage', False),\n",
    "(41667, 'voltage', True),\n",
    "(33850, 'office', False)]\n",
    "from collections import defaultdict, deque\n",
    "def task_manager(tasks):\n",
    "    dq = deque()\n",
    "    for keys, sever, prioritet in tasks:\n",
    "        if prioritet == False:\n",
    "            dq.append((keys, sever))\n",
    "        else:\n",
    "            dq.appendleft((keys, sever))\n",
    "    a = tuple(dq)\n",
    "    slovar = dict(a)\n",
    "    slovar=defaultdict(slovar)\n",
    "    return slovar\n",
    "task_manager(tasks)\n",
    "print(task_manager(tasks))\n",
    "            \n",
    "    \n"
   ]
  }
 ],
 "metadata": {
  "kernelspec": {
   "display_name": "Python 3",
   "language": "python",
   "name": "python3"
  },
  "language_info": {
   "codemirror_mode": {
    "name": "ipython",
    "version": 3
   },
   "file_extension": ".py",
   "mimetype": "text/x-python",
   "name": "python",
   "nbconvert_exporter": "python",
   "pygments_lexer": "ipython3",
   "version": "3.12.1"
  }
 },
 "nbformat": 4,
 "nbformat_minor": 2
}
